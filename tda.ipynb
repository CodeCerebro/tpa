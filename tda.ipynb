{
 "cells": [
  {
   "cell_type": "markdown",
   "metadata": {},
   "source": [
    "This project aims to predict the movement of assets based on quantitative analysis and machine learning. This is an ongoing project. Data is collected from tdameritrade api, https://developer.tdameritrade.com.  Quantitative analysis techniques will be used to make predictions and then compared with machine learning techniques. "
   ]
  },
  {
   "cell_type": "code",
   "execution_count": 65,
   "metadata": {},
   "outputs": [],
   "source": [
    "import pandas as pd\n",
    "import numpy as np\n",
    "import matplotlib.pyplot as plt\n",
    "import time\n",
    "from datetime import datetime\n",
    "import requests\n",
    "from api_key import api_key # api_key was saved in an api_key.py file"
   ]
  },
  {
   "cell_type": "code",
   "execution_count": null,
   "metadata": {},
   "outputs": [],
   "source": [
    "# creating api url request\n",
    "symbol = input().upper()\n",
    "url = 'https://api.tdameritrade.com/v1/marketdata/{}/pricehistory'.format(symbol)\n",
    "\n",
    "# refer to tdameritrade documentation for parameters.\n",
    "payload = {'apikey': api_key,\n",
    "          'periodType': 'year',\n",
    "          'period': '20',\n",
    "          'frequencyType': 'daily',\n",
    "          'frequency': '1'}"
   ]
  },
  {
   "cell_type": "code",
   "execution_count": 67,
   "metadata": {},
   "outputs": [],
   "source": [
    "# retrieving historically price\n",
    "rawData = requests.get(url, payload)"
   ]
  },
  {
   "cell_type": "code",
   "execution_count": 68,
   "metadata": {},
   "outputs": [
    {
     "data": {
      "text/plain": [
       "dict_keys(['candles', 'symbol', 'empty'])"
      ]
     },
     "execution_count": 68,
     "metadata": {},
     "output_type": "execute_result"
    }
   ],
   "source": [
    "# dumping data into json format\n",
    "rawData_json = rawData.json()\n",
    "rawData_json.keys()"
   ]
  },
  {
   "cell_type": "code",
   "execution_count": 69,
   "metadata": {},
   "outputs": [],
   "source": [
    "# loading json dictionary into a dataframe\n",
    "rawData_df = pd.json_normalize(rawData_json, 'candles')"
   ]
  },
  {
   "cell_type": "code",
   "execution_count": 70,
   "metadata": {},
   "outputs": [
    {
     "data": {
      "text/html": [
       "<div>\n",
       "<style scoped>\n",
       "    .dataframe tbody tr th:only-of-type {\n",
       "        vertical-align: middle;\n",
       "    }\n",
       "\n",
       "    .dataframe tbody tr th {\n",
       "        vertical-align: top;\n",
       "    }\n",
       "\n",
       "    .dataframe thead th {\n",
       "        text-align: right;\n",
       "    }\n",
       "</style>\n",
       "<table border=\"1\" class=\"dataframe\">\n",
       "  <thead>\n",
       "    <tr style=\"text-align: right;\">\n",
       "      <th></th>\n",
       "      <th>open</th>\n",
       "      <th>high</th>\n",
       "      <th>low</th>\n",
       "      <th>close</th>\n",
       "      <th>volume</th>\n",
       "      <th>datetime</th>\n",
       "    </tr>\n",
       "  </thead>\n",
       "  <tbody>\n",
       "    <tr>\n",
       "      <th>0</th>\n",
       "      <td>0.299821</td>\n",
       "      <td>0.308393</td>\n",
       "      <td>0.293214</td>\n",
       "      <td>0.304643</td>\n",
       "      <td>251658400</td>\n",
       "      <td>1025154000000</td>\n",
       "    </tr>\n",
       "    <tr>\n",
       "      <th>1</th>\n",
       "      <td>0.305357</td>\n",
       "      <td>0.318214</td>\n",
       "      <td>0.303571</td>\n",
       "      <td>0.316429</td>\n",
       "      <td>269858400</td>\n",
       "      <td>1025240400000</td>\n",
       "    </tr>\n",
       "    <tr>\n",
       "      <th>2</th>\n",
       "      <td>0.316250</td>\n",
       "      <td>0.319286</td>\n",
       "      <td>0.304464</td>\n",
       "      <td>0.304643</td>\n",
       "      <td>222689600</td>\n",
       "      <td>1025499600000</td>\n",
       "    </tr>\n",
       "    <tr>\n",
       "      <th>3</th>\n",
       "      <td>0.304107</td>\n",
       "      <td>0.306429</td>\n",
       "      <td>0.300536</td>\n",
       "      <td>0.302500</td>\n",
       "      <td>305188800</td>\n",
       "      <td>1025586000000</td>\n",
       "    </tr>\n",
       "    <tr>\n",
       "      <th>4</th>\n",
       "      <td>0.300179</td>\n",
       "      <td>0.315714</td>\n",
       "      <td>0.299107</td>\n",
       "      <td>0.313393</td>\n",
       "      <td>199029600</td>\n",
       "      <td>1025672400000</td>\n",
       "    </tr>\n",
       "    <tr>\n",
       "      <th>...</th>\n",
       "      <td>...</td>\n",
       "      <td>...</td>\n",
       "      <td>...</td>\n",
       "      <td>...</td>\n",
       "      <td>...</td>\n",
       "      <td>...</td>\n",
       "    </tr>\n",
       "    <tr>\n",
       "      <th>5030</th>\n",
       "      <td>133.420000</td>\n",
       "      <td>137.060000</td>\n",
       "      <td>133.320000</td>\n",
       "      <td>135.870000</td>\n",
       "      <td>81000488</td>\n",
       "      <td>1655787600000</td>\n",
       "    </tr>\n",
       "    <tr>\n",
       "      <th>5031</th>\n",
       "      <td>134.790000</td>\n",
       "      <td>137.760000</td>\n",
       "      <td>133.910000</td>\n",
       "      <td>135.350000</td>\n",
       "      <td>73409234</td>\n",
       "      <td>1655874000000</td>\n",
       "    </tr>\n",
       "    <tr>\n",
       "      <th>5032</th>\n",
       "      <td>136.820000</td>\n",
       "      <td>138.590000</td>\n",
       "      <td>135.630000</td>\n",
       "      <td>138.270000</td>\n",
       "      <td>72433768</td>\n",
       "      <td>1655960400000</td>\n",
       "    </tr>\n",
       "    <tr>\n",
       "      <th>5033</th>\n",
       "      <td>139.900000</td>\n",
       "      <td>141.910000</td>\n",
       "      <td>139.770000</td>\n",
       "      <td>141.660000</td>\n",
       "      <td>89116837</td>\n",
       "      <td>1656046800000</td>\n",
       "    </tr>\n",
       "    <tr>\n",
       "      <th>5034</th>\n",
       "      <td>142.695000</td>\n",
       "      <td>143.490000</td>\n",
       "      <td>140.965000</td>\n",
       "      <td>141.660000</td>\n",
       "      <td>70207908</td>\n",
       "      <td>1656306000000</td>\n",
       "    </tr>\n",
       "  </tbody>\n",
       "</table>\n",
       "<p>5035 rows × 6 columns</p>\n",
       "</div>"
      ],
      "text/plain": [
       "            open        high         low       close     volume       datetime\n",
       "0       0.299821    0.308393    0.293214    0.304643  251658400  1025154000000\n",
       "1       0.305357    0.318214    0.303571    0.316429  269858400  1025240400000\n",
       "2       0.316250    0.319286    0.304464    0.304643  222689600  1025499600000\n",
       "3       0.304107    0.306429    0.300536    0.302500  305188800  1025586000000\n",
       "4       0.300179    0.315714    0.299107    0.313393  199029600  1025672400000\n",
       "...          ...         ...         ...         ...        ...            ...\n",
       "5030  133.420000  137.060000  133.320000  135.870000   81000488  1655787600000\n",
       "5031  134.790000  137.760000  133.910000  135.350000   73409234  1655874000000\n",
       "5032  136.820000  138.590000  135.630000  138.270000   72433768  1655960400000\n",
       "5033  139.900000  141.910000  139.770000  141.660000   89116837  1656046800000\n",
       "5034  142.695000  143.490000  140.965000  141.660000   70207908  1656306000000\n",
       "\n",
       "[5035 rows x 6 columns]"
      ]
     },
     "execution_count": 70,
     "metadata": {},
     "output_type": "execute_result"
    }
   ],
   "source": [
    "rawData_df"
   ]
  },
  {
   "cell_type": "code",
   "execution_count": 71,
   "metadata": {},
   "outputs": [],
   "source": [
    "# converting miliseconds to datetime format. Also add additional day to get current date.\n",
    "def daily_datetime(data):\n",
    "    df=data\n",
    "    df['datetime'] = df['datetime'].map(lambda x: datetime.fromtimestamp((x + 86400000) / 1000))\n",
    "    df['datetime'] = df['datetime'].map(lambda x: datetime.strptime(str(x).split(' ')[0], '%Y-%m-%d'))\n",
    "    return df"
   ]
  },
  {
   "cell_type": "code",
   "execution_count": 72,
   "metadata": {},
   "outputs": [
    {
     "data": {
      "text/html": [
       "<div>\n",
       "<style scoped>\n",
       "    .dataframe tbody tr th:only-of-type {\n",
       "        vertical-align: middle;\n",
       "    }\n",
       "\n",
       "    .dataframe tbody tr th {\n",
       "        vertical-align: top;\n",
       "    }\n",
       "\n",
       "    .dataframe thead th {\n",
       "        text-align: right;\n",
       "    }\n",
       "</style>\n",
       "<table border=\"1\" class=\"dataframe\">\n",
       "  <thead>\n",
       "    <tr style=\"text-align: right;\">\n",
       "      <th></th>\n",
       "      <th>open</th>\n",
       "      <th>high</th>\n",
       "      <th>low</th>\n",
       "      <th>close</th>\n",
       "      <th>volume</th>\n",
       "      <th>datetime</th>\n",
       "    </tr>\n",
       "  </thead>\n",
       "  <tbody>\n",
       "    <tr>\n",
       "      <th>0</th>\n",
       "      <td>0.299821</td>\n",
       "      <td>0.308393</td>\n",
       "      <td>0.293214</td>\n",
       "      <td>0.304643</td>\n",
       "      <td>251658400</td>\n",
       "      <td>2002-06-27</td>\n",
       "    </tr>\n",
       "    <tr>\n",
       "      <th>1</th>\n",
       "      <td>0.305357</td>\n",
       "      <td>0.318214</td>\n",
       "      <td>0.303571</td>\n",
       "      <td>0.316429</td>\n",
       "      <td>269858400</td>\n",
       "      <td>2002-06-28</td>\n",
       "    </tr>\n",
       "    <tr>\n",
       "      <th>2</th>\n",
       "      <td>0.316250</td>\n",
       "      <td>0.319286</td>\n",
       "      <td>0.304464</td>\n",
       "      <td>0.304643</td>\n",
       "      <td>222689600</td>\n",
       "      <td>2002-07-01</td>\n",
       "    </tr>\n",
       "    <tr>\n",
       "      <th>3</th>\n",
       "      <td>0.304107</td>\n",
       "      <td>0.306429</td>\n",
       "      <td>0.300536</td>\n",
       "      <td>0.302500</td>\n",
       "      <td>305188800</td>\n",
       "      <td>2002-07-02</td>\n",
       "    </tr>\n",
       "    <tr>\n",
       "      <th>4</th>\n",
       "      <td>0.300179</td>\n",
       "      <td>0.315714</td>\n",
       "      <td>0.299107</td>\n",
       "      <td>0.313393</td>\n",
       "      <td>199029600</td>\n",
       "      <td>2002-07-03</td>\n",
       "    </tr>\n",
       "    <tr>\n",
       "      <th>...</th>\n",
       "      <td>...</td>\n",
       "      <td>...</td>\n",
       "      <td>...</td>\n",
       "      <td>...</td>\n",
       "      <td>...</td>\n",
       "      <td>...</td>\n",
       "    </tr>\n",
       "    <tr>\n",
       "      <th>5030</th>\n",
       "      <td>133.420000</td>\n",
       "      <td>137.060000</td>\n",
       "      <td>133.320000</td>\n",
       "      <td>135.870000</td>\n",
       "      <td>81000488</td>\n",
       "      <td>2022-06-21</td>\n",
       "    </tr>\n",
       "    <tr>\n",
       "      <th>5031</th>\n",
       "      <td>134.790000</td>\n",
       "      <td>137.760000</td>\n",
       "      <td>133.910000</td>\n",
       "      <td>135.350000</td>\n",
       "      <td>73409234</td>\n",
       "      <td>2022-06-22</td>\n",
       "    </tr>\n",
       "    <tr>\n",
       "      <th>5032</th>\n",
       "      <td>136.820000</td>\n",
       "      <td>138.590000</td>\n",
       "      <td>135.630000</td>\n",
       "      <td>138.270000</td>\n",
       "      <td>72433768</td>\n",
       "      <td>2022-06-23</td>\n",
       "    </tr>\n",
       "    <tr>\n",
       "      <th>5033</th>\n",
       "      <td>139.900000</td>\n",
       "      <td>141.910000</td>\n",
       "      <td>139.770000</td>\n",
       "      <td>141.660000</td>\n",
       "      <td>89116837</td>\n",
       "      <td>2022-06-24</td>\n",
       "    </tr>\n",
       "    <tr>\n",
       "      <th>5034</th>\n",
       "      <td>142.695000</td>\n",
       "      <td>143.490000</td>\n",
       "      <td>140.965000</td>\n",
       "      <td>141.660000</td>\n",
       "      <td>70207908</td>\n",
       "      <td>2022-06-27</td>\n",
       "    </tr>\n",
       "  </tbody>\n",
       "</table>\n",
       "<p>5035 rows × 6 columns</p>\n",
       "</div>"
      ],
      "text/plain": [
       "            open        high         low       close     volume   datetime\n",
       "0       0.299821    0.308393    0.293214    0.304643  251658400 2002-06-27\n",
       "1       0.305357    0.318214    0.303571    0.316429  269858400 2002-06-28\n",
       "2       0.316250    0.319286    0.304464    0.304643  222689600 2002-07-01\n",
       "3       0.304107    0.306429    0.300536    0.302500  305188800 2002-07-02\n",
       "4       0.300179    0.315714    0.299107    0.313393  199029600 2002-07-03\n",
       "...          ...         ...         ...         ...        ...        ...\n",
       "5030  133.420000  137.060000  133.320000  135.870000   81000488 2022-06-21\n",
       "5031  134.790000  137.760000  133.910000  135.350000   73409234 2022-06-22\n",
       "5032  136.820000  138.590000  135.630000  138.270000   72433768 2022-06-23\n",
       "5033  139.900000  141.910000  139.770000  141.660000   89116837 2022-06-24\n",
       "5034  142.695000  143.490000  140.965000  141.660000   70207908 2022-06-27\n",
       "\n",
       "[5035 rows x 6 columns]"
      ]
     },
     "execution_count": 72,
     "metadata": {},
     "output_type": "execute_result"
    }
   ],
   "source": [
    "cleaned_data = daily_datetime(rawData_df)\n",
    "cleaned_data"
   ]
  },
  {
   "cell_type": "code",
   "execution_count": 74,
   "metadata": {},
   "outputs": [
    {
     "data": {
      "text/plain": [
       "<BarContainer object of 5035 artists>"
      ]
     },
     "execution_count": 74,
     "metadata": {},
     "output_type": "execute_result"
    },
    {
     "data": {
      "image/png": "[encoded data removed]",
      "text/plain": [
       "<Figure size 432x288 with 2 Axes>"
      ]
     },
     "metadata": {
      "needs_background": "light"
     },
     "output_type": "display_data"
    }
   ],
   "source": [
    "# plot using matplotlib \n",
    "import matplotlib.gridspec as gridspec\n",
    "\n",
    "fig = plt.figure(constrained_layout=True)\n",
    "gs = gridspec.GridSpec(4,4, fig)\n",
    "ax_price = fig.add_subplot(gs[:3,:])\n",
    "ax_vol = fig.add_subplot(gs[3,:])\n",
    "\n",
    "x = cleaned_data['datetime']\n",
    "y_price = cleaned_data['close']\n",
    "y_vol = cleaned_data['volume']\n",
    "\n",
    "ax_price.plot(x,y_price)\n",
    "ax_vol.bar(x,y_vol)"
   ]
  },
  {
   "cell_type": "code",
   "execution_count": null,
   "metadata": {},
   "outputs": [],
   "source": []
  },
  {
   "cell_type": "code",
   "execution_count": null,
   "metadata": {},
   "outputs": [],
   "source": []
  },
  {
   "cell_type": "code",
   "execution_count": null,
   "metadata": {},
   "outputs": [],
   "source": []
  }
 ],
 "metadata": {
  "kernelspec": {
   "display_name": "Python 3 (ipykernel)",
   "language": "python",
   "name": "python3"
  },
  "language_info": {
   "codemirror_mode": {
    "name": "ipython",
    "version": 3
   },
   "file_extension": ".py",
   "mimetype": "text/x-python",
   "name": "python",
   "nbconvert_exporter": "python",
   "pygments_lexer": "ipython3",
   "version": "3.9.1"
  }
 },
 "nbformat": 4,
 "nbformat_minor": 4
}
