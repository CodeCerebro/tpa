{
 "cells": [
  {
   "cell_type": "markdown",
   "metadata": {},
   "source": [
    "This project aims to predict the movement of assets based on quantitative analysis and machine learning. This is an ongoing project. Data is collected from tdameritrade api, https://developer.tdameritrade.com.  Quantitative analysis techniques will be used to make predictions and then compared with machine learning techniques. "
   ]
  },
  {
   "cell_type": "code",
   "execution_count": 1,
   "metadata": {},
   "outputs": [],
   "source": [
    "import os\n",
    "import pandas as pd\n",
    "import numpy as np\n",
    "import matplotlib.pyplot as plt\n",
    "from datetime import datetime\n",
    "import requests\n",
    "from api_key import api_key # api_key was saved in an api_key.py file"
   ]
  },
  {
   "cell_type": "code",
   "execution_count": 2,
   "metadata": {},
   "outputs": [
    {
     "name": "stdout",
     "output_type": "stream",
     "text": [
      "aapl\n"
     ]
    }
   ],
   "source": [
    "# creating api url request\n",
    "\n",
    "symbol = input().upper()\n",
    "url = 'https://api.tdameritrade.com/v1/marketdata/{}/pricehistory'.format(symbol)\n"
   ]
  },
  {
   "cell_type": "code",
   "execution_count": 3,
   "metadata": {},
   "outputs": [],
   "source": [
    "# refer to tdameritrade documentation for parameters.\n",
    "\n",
    "payload = {'apikey': api_key,\n",
    "          'periodType': 'year',\n",
    "          'period': '20',\n",
    "          'frequencyType': 'daily',\n",
    "          'frequency': '1'}\n",
    "\n",
    "\n",
    "# retrieving historically price function and returns a response string object\n",
    "\n",
    "def historicalPrice(symbols):\n",
    "    if isinstance(symbols, dict):\n",
    "        price = {}\n",
    "        for symbol in symbols.keys():\n",
    "            url = 'https://api.tdameritrade.com/v1/marketdata/{}/pricehistory'.format(symbol)\n",
    "            # extracting the response object into json format\n",
    "            price[symbol] = requests.get(url, payload).json()\n",
    "    else:\n",
    "        url = 'https://api.tdameritrade.com/v1/marketdata/{}/pricehistory'.format(symbols)\n",
    "        price = requests.get(url, payload).json()\n",
    "    return price"
   ]
  },
  {
   "cell_type": "code",
   "execution_count": 74,
   "metadata": {},
   "outputs": [],
   "source": [
    "# converting miliseconds to datetime format. Also add additional day to get current date.\n",
    "\n",
    "def daily_datetime(data):\n",
    "    df = data\n",
    "    df['date'] = df['datetime'].map(lambda x: datetime.fromtimestamp((x + 86400000) / 1000))\n",
    "    df['date'] = df['date'].map(lambda x: datetime.strptime(str(x).split(' ')[0], '%Y-%m-%d'))\n",
    "    return df"
   ]
  },
  {
   "cell_type": "code",
   "execution_count": 65,
   "metadata": {},
   "outputs": [],
   "source": [
    "# Spider Sectors\n",
    "\n",
    "sectors = {'XLC': 'Communication Services', 'XLY': 'Consumer Discretionary', 'XLP': 'Consumer Staples',\n",
    "          'XLE': 'Energy', 'XLF': 'Financials', 'XLV': 'Health Care', 'XLI': 'Industrials', 'XLB': 'Materials',\n",
    "          'XLRE': 'Real Estate', 'XLK': 'Technology', 'XLU': 'Utilities', 'MSOS': 'US Cannabis'}"
   ]
  },
  {
   "cell_type": "code",
   "execution_count": 66,
   "metadata": {},
   "outputs": [
    {
     "data": {
      "text/plain": [
       "0"
      ]
     },
     "execution_count": 66,
     "metadata": {},
     "output_type": "execute_result"
    }
   ],
   "source": [
    "# retrieving historical price of each sector.\n",
    "\n",
    "sectorsPrice = historicalPrice(sectors)\n",
    "os.system('say \"Retrieving is done\"')"
   ]
  },
  {
   "cell_type": "code",
   "execution_count": 75,
   "metadata": {},
   "outputs": [],
   "source": [
    "# loading json dictionary into a dictionary of dataframes.\n",
    "\n",
    "hp_df = {}\n",
    "for sector in sectors.keys():\n",
    "    hp_df[sector] = pd.json_normalize(sectorsPrice[sector], 'candles')\n",
    "    daily_datetime(hp_df[sector])"
   ]
  },
  {
   "cell_type": "code",
   "execution_count": 76,
   "metadata": {},
   "outputs": [
    {
     "data": {
      "text/plain": [
       "<BarContainer object of 1021 artists>"
      ]
     },
     "execution_count": 76,
     "metadata": {},
     "output_type": "execute_result"
    },
    {
     "data": {
      "image/png": "[encoded data removed]",
      "text/plain": [
       "<Figure size 432x288 with 2 Axes>"
      ]
     },
     "metadata": {
      "needs_background": "light"
     },
     "output_type": "display_data"
    }
   ],
   "source": [
    "# plottinh using matplotlib \n",
    "\n",
    "import matplotlib.gridspec as gridspec\n",
    "\n",
    "fig = plt.figure(constrained_layout=True)\n",
    "gs = gridspec.GridSpec(4,4, fig)\n",
    "ax_price = fig.add_subplot(gs[:3,:])\n",
    "ax_vol = fig.add_subplot(gs[3,:])\n",
    "\n",
    "x = hp_df['XLC']['date']\n",
    "y_price = hp_df['XLC']['close']\n",
    "y_vol = hp_df['XLC']['volume']\n",
    "\n",
    "ax_price.plot(x,y_price)\n",
    "ax_vol.bar(x,y_vol)"
   ]
  },
  {
   "cell_type": "code",
   "execution_count": 81,
   "metadata": {},
   "outputs": [],
   "source": [
    "# percent change\n",
    "\n",
    "def percentChange(data):\n",
    "    if isinstance(data, dict):\n",
    "        for sector in data.keys():\n",
    "            data[sector]['percent change'] = np.zeros(len(data[sector]))\n",
    "            for i in range(1,len(data[sector])):\n",
    "                data[sector]['percent change'][i] = round((data[sector]['close'][i] -  data[sector]['close'][i-1]) /  data[sector]['close'][i-1] * 100,2)\n",
    "    return data"
   ]
  },
  {
   "cell_type": "code",
   "execution_count": 84,
   "metadata": {},
   "outputs": [
    {
     "name": "stderr",
     "output_type": "stream",
     "text": [
      "/var/folders/8y/vcb_0h497jz93hhf27ygq36c0000gn/T/ipykernel_75093/3018228625.py:8: SettingWithCopyWarning: \n",
      "A value is trying to be set on a copy of a slice from a DataFrame\n",
      "\n",
      "See the caveats in the documentation: https://pandas.pydata.org/pandas-docs/stable/user_guide/indexing.html#returning-a-view-versus-a-copy\n",
      "  data[sector]['percent change'][i] = round((data[sector]['close'][i] -  data[sector]['close'][i-1]) /  data[sector]['close'][i-1] * 100,2)\n"
     ]
    }
   ],
   "source": [
    "hp_df = percentChange(hp_df)"
   ]
  },
  {
   "cell_type": "code",
   "execution_count": 85,
   "metadata": {},
   "outputs": [
    {
     "data": {
      "text/html": [
       "<div>\n",
       "<style scoped>\n",
       "    .dataframe tbody tr th:only-of-type {\n",
       "        vertical-align: middle;\n",
       "    }\n",
       "\n",
       "    .dataframe tbody tr th {\n",
       "        vertical-align: top;\n",
       "    }\n",
       "\n",
       "    .dataframe thead th {\n",
       "        text-align: right;\n",
       "    }\n",
       "</style>\n",
       "<table border=\"1\" class=\"dataframe\">\n",
       "  <thead>\n",
       "    <tr style=\"text-align: right;\">\n",
       "      <th></th>\n",
       "      <th>open</th>\n",
       "      <th>high</th>\n",
       "      <th>low</th>\n",
       "      <th>close</th>\n",
       "      <th>volume</th>\n",
       "      <th>datetime</th>\n",
       "      <th>date</th>\n",
       "      <th>Percent change</th>\n",
       "      <th>percent change</th>\n",
       "    </tr>\n",
       "  </thead>\n",
       "  <tbody>\n",
       "    <tr>\n",
       "      <th>1016</th>\n",
       "      <td>54.08</td>\n",
       "      <td>54.890</td>\n",
       "      <td>53.705</td>\n",
       "      <td>54.82</td>\n",
       "      <td>4400436</td>\n",
       "      <td>1656651600000</td>\n",
       "      <td>2022-07-01</td>\n",
       "      <td>1.01</td>\n",
       "      <td>1.01</td>\n",
       "    </tr>\n",
       "    <tr>\n",
       "      <th>1017</th>\n",
       "      <td>54.13</td>\n",
       "      <td>56.120</td>\n",
       "      <td>53.610</td>\n",
       "      <td>56.09</td>\n",
       "      <td>4237414</td>\n",
       "      <td>1656997200000</td>\n",
       "      <td>2022-07-05</td>\n",
       "      <td>2.32</td>\n",
       "      <td>2.32</td>\n",
       "    </tr>\n",
       "    <tr>\n",
       "      <th>1018</th>\n",
       "      <td>56.09</td>\n",
       "      <td>56.545</td>\n",
       "      <td>55.492</td>\n",
       "      <td>56.10</td>\n",
       "      <td>4234945</td>\n",
       "      <td>1657083600000</td>\n",
       "      <td>2022-07-06</td>\n",
       "      <td>0.02</td>\n",
       "      <td>0.02</td>\n",
       "    </tr>\n",
       "    <tr>\n",
       "      <th>1019</th>\n",
       "      <td>56.27</td>\n",
       "      <td>57.210</td>\n",
       "      <td>56.120</td>\n",
       "      <td>56.98</td>\n",
       "      <td>3297224</td>\n",
       "      <td>1657170000000</td>\n",
       "      <td>2022-07-07</td>\n",
       "      <td>1.57</td>\n",
       "      <td>1.57</td>\n",
       "    </tr>\n",
       "    <tr>\n",
       "      <th>1020</th>\n",
       "      <td>56.45</td>\n",
       "      <td>57.130</td>\n",
       "      <td>56.170</td>\n",
       "      <td>56.71</td>\n",
       "      <td>2566941</td>\n",
       "      <td>1657256400000</td>\n",
       "      <td>2022-07-08</td>\n",
       "      <td>-0.47</td>\n",
       "      <td>-0.47</td>\n",
       "    </tr>\n",
       "  </tbody>\n",
       "</table>\n",
       "</div>"
      ],
      "text/plain": [
       "       open    high     low  close   volume       datetime       date  \\\n",
       "1016  54.08  54.890  53.705  54.82  4400436  1656651600000 2022-07-01   \n",
       "1017  54.13  56.120  53.610  56.09  4237414  1656997200000 2022-07-05   \n",
       "1018  56.09  56.545  55.492  56.10  4234945  1657083600000 2022-07-06   \n",
       "1019  56.27  57.210  56.120  56.98  3297224  1657170000000 2022-07-07   \n",
       "1020  56.45  57.130  56.170  56.71  2566941  1657256400000 2022-07-08   \n",
       "\n",
       "      Percent change  percent change  \n",
       "1016            1.01            1.01  \n",
       "1017            2.32            2.32  \n",
       "1018            0.02            0.02  \n",
       "1019            1.57            1.57  \n",
       "1020           -0.47           -0.47  "
      ]
     },
     "execution_count": 85,
     "metadata": {},
     "output_type": "execute_result"
    }
   ],
   "source": [
    "hp_df['XLC'].tail()"
   ]
  },
  {
   "cell_type": "code",
   "execution_count": null,
   "metadata": {},
   "outputs": [],
   "source": []
  },
  {
   "cell_type": "code",
   "execution_count": null,
   "metadata": {},
   "outputs": [],
   "source": []
  },
  {
   "cell_type": "code",
   "execution_count": null,
   "metadata": {},
   "outputs": [],
   "source": []
  },
  {
   "cell_type": "code",
   "execution_count": null,
   "metadata": {},
   "outputs": [],
   "source": []
  },
  {
   "cell_type": "code",
   "execution_count": null,
   "metadata": {},
   "outputs": [],
   "source": []
  },
  {
   "cell_type": "code",
   "execution_count": null,
   "metadata": {},
   "outputs": [],
   "source": []
  },
  {
   "cell_type": "code",
   "execution_count": null,
   "metadata": {},
   "outputs": [],
   "source": []
  }
 ],
 "metadata": {
  "kernelspec": {
   "display_name": "Python 3 (ipykernel)",
   "language": "python",
   "name": "python3"
  },
  "language_info": {
   "codemirror_mode": {
    "name": "ipython",
    "version": 3
   },
   "file_extension": ".py",
   "mimetype": "text/x-python",
   "name": "python",
   "nbconvert_exporter": "python",
   "pygments_lexer": "ipython3",
   "version": "3.9.1"
  }
 },
 "nbformat": 4,
 "nbformat_minor": 4
}
