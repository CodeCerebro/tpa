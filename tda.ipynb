{
 "cells": [
  {
   "cell_type": "markdown",
   "metadata": {},
   "source": [
    "This project aims to predict the movement of assets based on quantitative analysis and machine learning. This is an ongoing project. Data is collected from tdameritrade api, https://developer.tdameritrade.com.  Quantitative analysis techniques will be used to make predictions and then compared with machine learning techniques. "
   ]
  },
  {
   "cell_type": "code",
   "execution_count": 1,
   "metadata": {},
   "outputs": [],
   "source": [
    "import pandas as pd\n",
    "import numpy as np\n",
    "import matplotlib.pyplot as plt\n",
    "import time\n",
    "from datetime import datetime\n",
    "import requests\n",
    "from api_key import api_key # api_key was saved in an api_key.py file"
   ]
  },
  {
   "cell_type": "code",
   "execution_count": 2,
   "metadata": {},
   "outputs": [
    {
     "name": "stdout",
     "output_type": "stream",
     "text": [
      "APPL\n"
     ]
    }
   ],
   "source": [
    "# creating api url request\n",
    "symbol = input().upper()\n",
    "url = 'https://api.tdameritrade.com/v1/marketdata/{}/pricehistory'.format(symbol)\n"
   ]
  },
  {
   "cell_type": "code",
   "execution_count": 3,
   "metadata": {},
   "outputs": [],
   "source": [
    "# refer to tdameritrade documentation for parameters.\n",
    "payload = {'apikey': api_key,\n",
    "          'periodType': 'year',\n",
    "          'period': '20',\n",
    "          'frequencyType': 'daily',\n",
    "          'frequency': '1'}\n",
    "\n",
    "\n",
    "# retrieving historically price function and returns a response string object\n",
    "\n",
    "\n",
    "def historicalPrice(symbols):\n",
    "    if isinstance(symbols, dict):\n",
    "        price = {}\n",
    "        for symbol in symbols.values():\n",
    "            url = 'https://api.tdameritrade.com/v1/marketdata/{}/pricehistory'.format(symbol)\n",
    "            # extracting the response object into json format\n",
    "            price[symbol] = requests.get(url, payload).json()\n",
    "    else:\n",
    "        url = 'https://api.tdameritrade.com/v1/marketdata/{}/pricehistory'.format(symbols)\n",
    "        price = requests.get(url, payload).json()\n",
    "    return price"
   ]
  },
  {
   "cell_type": "code",
   "execution_count": 4,
   "metadata": {},
   "outputs": [],
   "source": [
    "# converting miliseconds to datetime format. Also add additional day to get current date.\n",
    "def daily_datetime(data):\n",
    "    df=data\n",
    "    df['datetime'] = df['datetime'].map(lambda x: datetime.fromtimestamp((x + 86400000) / 1000))\n",
    "    df['datetime'] = df['datetime'].map(lambda x: datetime.strptime(str(x).split(' ')[0], '%Y-%m-%d'))\n",
    "    return df"
   ]
  },
  {
   "cell_type": "code",
   "execution_count": 5,
   "metadata": {},
   "outputs": [
    {
     "ename": "NameError",
     "evalue": "name 'cleaned_data' is not defined",
     "output_type": "error",
     "traceback": [
      "\u001b[0;31m---------------------------------------------------------------------------\u001b[0m",
      "\u001b[0;31mNameError\u001b[0m                                 Traceback (most recent call last)",
      "Input \u001b[0;32mIn [5]\u001b[0m, in \u001b[0;36m<cell line: 9>\u001b[0;34m()\u001b[0m\n\u001b[1;32m      6\u001b[0m ax_price \u001b[38;5;241m=\u001b[39m fig\u001b[38;5;241m.\u001b[39madd_subplot(gs[:\u001b[38;5;241m3\u001b[39m,:])\n\u001b[1;32m      7\u001b[0m ax_vol \u001b[38;5;241m=\u001b[39m fig\u001b[38;5;241m.\u001b[39madd_subplot(gs[\u001b[38;5;241m3\u001b[39m,:])\n\u001b[0;32m----> 9\u001b[0m x \u001b[38;5;241m=\u001b[39m \u001b[43mcleaned_data\u001b[49m[\u001b[38;5;124m'\u001b[39m\u001b[38;5;124mdatetime\u001b[39m\u001b[38;5;124m'\u001b[39m]\n\u001b[1;32m     10\u001b[0m y_price \u001b[38;5;241m=\u001b[39m cleaned_data[\u001b[38;5;124m'\u001b[39m\u001b[38;5;124mclose\u001b[39m\u001b[38;5;124m'\u001b[39m]\n\u001b[1;32m     11\u001b[0m y_vol \u001b[38;5;241m=\u001b[39m cleaned_data[\u001b[38;5;124m'\u001b[39m\u001b[38;5;124mvolume\u001b[39m\u001b[38;5;124m'\u001b[39m]\n",
      "\u001b[0;31mNameError\u001b[0m: name 'cleaned_data' is not defined"
     ]
    },
    {
     "data": {
      "image/png": "[encoded data removed]",
      "text/plain": [
       "<Figure size 432x288 with 2 Axes>"
      ]
     },
     "metadata": {
      "needs_background": "light"
     },
     "output_type": "display_data"
    }
   ],
   "source": [
    "# plot using matplotlib \n",
    "import matplotlib.gridspec as gridspec\n",
    "\n",
    "fig = plt.figure(constrained_layout=True)\n",
    "gs = gridspec.GridSpec(4,4, fig)\n",
    "ax_price = fig.add_subplot(gs[:3,:])\n",
    "ax_vol = fig.add_subplot(gs[3,:])\n",
    "\n",
    "x = cleaned_data['datetime']\n",
    "y_price = cleaned_data['close']\n",
    "y_vol = cleaned_data['volume']\n",
    "\n",
    "ax_price.plot(x,y_price)\n",
    "ax_vol.bar(x,y_vol)"
   ]
  },
  {
   "cell_type": "code",
   "execution_count": 6,
   "metadata": {},
   "outputs": [],
   "source": [
    "import os\n"
   ]
  },
  {
   "cell_type": "code",
   "execution_count": 7,
   "metadata": {},
   "outputs": [
    {
     "data": {
      "text/plain": [
       "0"
      ]
     },
     "execution_count": 7,
     "metadata": {},
     "output_type": "execute_result"
    }
   ],
   "source": [
    "os.system('say \"Retrieving is done\"')"
   ]
  },
  {
   "cell_type": "code",
   "execution_count": 8,
   "metadata": {},
   "outputs": [],
   "source": [
    "# Spider Sectors\n",
    "\n",
    "sectors = {'Communication Services': 'XLC', 'Consumer Discretionary': 'XLY', 'Consumer Staples': 'XLP',\n",
    "          'Energy': 'XLE', 'Financials': 'XLF', 'Health Care': 'XLV', 'Industrials': 'XLI', 'Materials': 'XLB',\n",
    "          'Real Estate': 'XLRE', 'Technology': 'XLK', 'Utilities': 'XLU'}"
   ]
  },
  {
   "cell_type": "code",
   "execution_count": 9,
   "metadata": {},
   "outputs": [],
   "source": [
    "x=historicalPrice(sectors)"
   ]
  },
  {
   "cell_type": "code",
   "execution_count": 10,
   "metadata": {},
   "outputs": [
    {
     "data": {
      "text/html": [
       "<div>\n",
       "<style scoped>\n",
       "    .dataframe tbody tr th:only-of-type {\n",
       "        vertical-align: middle;\n",
       "    }\n",
       "\n",
       "    .dataframe tbody tr th {\n",
       "        vertical-align: top;\n",
       "    }\n",
       "\n",
       "    .dataframe thead th {\n",
       "        text-align: right;\n",
       "    }\n",
       "</style>\n",
       "<table border=\"1\" class=\"dataframe\">\n",
       "  <thead>\n",
       "    <tr style=\"text-align: right;\">\n",
       "      <th></th>\n",
       "      <th>open</th>\n",
       "      <th>high</th>\n",
       "      <th>low</th>\n",
       "      <th>close</th>\n",
       "      <th>volume</th>\n",
       "      <th>datetime</th>\n",
       "    </tr>\n",
       "  </thead>\n",
       "  <tbody>\n",
       "    <tr>\n",
       "      <th>0</th>\n",
       "      <td>16.17</td>\n",
       "      <td>16.20</td>\n",
       "      <td>15.47</td>\n",
       "      <td>15.58</td>\n",
       "      <td>1090100</td>\n",
       "      <td>2002-07-08</td>\n",
       "    </tr>\n",
       "    <tr>\n",
       "      <th>1</th>\n",
       "      <td>15.56</td>\n",
       "      <td>15.76</td>\n",
       "      <td>15.31</td>\n",
       "      <td>15.35</td>\n",
       "      <td>397600</td>\n",
       "      <td>2002-07-09</td>\n",
       "    </tr>\n",
       "    <tr>\n",
       "      <th>2</th>\n",
       "      <td>15.45</td>\n",
       "      <td>15.56</td>\n",
       "      <td>14.94</td>\n",
       "      <td>14.94</td>\n",
       "      <td>907900</td>\n",
       "      <td>2002-07-10</td>\n",
       "    </tr>\n",
       "    <tr>\n",
       "      <th>3</th>\n",
       "      <td>14.85</td>\n",
       "      <td>15.49</td>\n",
       "      <td>14.68</td>\n",
       "      <td>15.49</td>\n",
       "      <td>1277900</td>\n",
       "      <td>2002-07-11</td>\n",
       "    </tr>\n",
       "    <tr>\n",
       "      <th>4</th>\n",
       "      <td>15.85</td>\n",
       "      <td>15.85</td>\n",
       "      <td>15.29</td>\n",
       "      <td>15.42</td>\n",
       "      <td>1111100</td>\n",
       "      <td>2002-07-12</td>\n",
       "    </tr>\n",
       "    <tr>\n",
       "      <th>...</th>\n",
       "      <td>...</td>\n",
       "      <td>...</td>\n",
       "      <td>...</td>\n",
       "      <td>...</td>\n",
       "      <td>...</td>\n",
       "      <td>...</td>\n",
       "    </tr>\n",
       "    <tr>\n",
       "      <th>5033</th>\n",
       "      <td>127.13</td>\n",
       "      <td>128.72</td>\n",
       "      <td>125.11</td>\n",
       "      <td>127.12</td>\n",
       "      <td>7860161</td>\n",
       "      <td>2022-06-30</td>\n",
       "    </tr>\n",
       "    <tr>\n",
       "      <th>5034</th>\n",
       "      <td>126.32</td>\n",
       "      <td>127.73</td>\n",
       "      <td>125.23</td>\n",
       "      <td>127.41</td>\n",
       "      <td>6965317</td>\n",
       "      <td>2022-07-01</td>\n",
       "    </tr>\n",
       "    <tr>\n",
       "      <th>5035</th>\n",
       "      <td>125.68</td>\n",
       "      <td>129.04</td>\n",
       "      <td>124.96</td>\n",
       "      <td>129.01</td>\n",
       "      <td>7170535</td>\n",
       "      <td>2022-07-05</td>\n",
       "    </tr>\n",
       "    <tr>\n",
       "      <th>5036</th>\n",
       "      <td>129.29</td>\n",
       "      <td>131.16</td>\n",
       "      <td>128.65</td>\n",
       "      <td>130.12</td>\n",
       "      <td>8083462</td>\n",
       "      <td>2022-07-06</td>\n",
       "    </tr>\n",
       "    <tr>\n",
       "      <th>5037</th>\n",
       "      <td>130.69</td>\n",
       "      <td>133.11</td>\n",
       "      <td>130.69</td>\n",
       "      <td>132.81</td>\n",
       "      <td>6541124</td>\n",
       "      <td>2022-07-07</td>\n",
       "    </tr>\n",
       "  </tbody>\n",
       "</table>\n",
       "<p>5038 rows × 6 columns</p>\n",
       "</div>"
      ],
      "text/plain": [
       "        open    high     low   close   volume   datetime\n",
       "0      16.17   16.20   15.47   15.58  1090100 2002-07-08\n",
       "1      15.56   15.76   15.31   15.35   397600 2002-07-09\n",
       "2      15.45   15.56   14.94   14.94   907900 2002-07-10\n",
       "3      14.85   15.49   14.68   15.49  1277900 2002-07-11\n",
       "4      15.85   15.85   15.29   15.42  1111100 2002-07-12\n",
       "...      ...     ...     ...     ...      ...        ...\n",
       "5033  127.13  128.72  125.11  127.12  7860161 2022-06-30\n",
       "5034  126.32  127.73  125.23  127.41  6965317 2022-07-01\n",
       "5035  125.68  129.04  124.96  129.01  7170535 2022-07-05\n",
       "5036  129.29  131.16  128.65  130.12  8083462 2022-07-06\n",
       "5037  130.69  133.11  130.69  132.81  6541124 2022-07-07\n",
       "\n",
       "[5038 rows x 6 columns]"
      ]
     },
     "execution_count": 10,
     "metadata": {},
     "output_type": "execute_result"
    }
   ],
   "source": [
    "# loading json dictionary into a dataframe\n",
    "XLC = pd.json_normalize(x['XLK'], 'candles')\n",
    "daily_datetime(XLC)"
   ]
  },
  {
   "cell_type": "code",
   "execution_count": null,
   "metadata": {},
   "outputs": [],
   "source": []
  }
 ],
 "metadata": {
  "kernelspec": {
   "display_name": "Python 3 (ipykernel)",
   "language": "python",
   "name": "python3"
  },
  "language_info": {
   "codemirror_mode": {
    "name": "ipython",
    "version": 3
   },
   "file_extension": ".py",
   "mimetype": "text/x-python",
   "name": "python",
   "nbconvert_exporter": "python",
   "pygments_lexer": "ipython3",
   "version": "3.9.1"
  }
 },
 "nbformat": 4,
 "nbformat_minor": 4
}
